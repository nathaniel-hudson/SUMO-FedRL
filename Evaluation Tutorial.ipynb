{
 "cells": [
  {
   "cell_type": "markdown",
   "metadata": {},
   "source": [
    "# Evaluation Tutorial using SEAL\n",
    "In this Jupyter notebook, we overview how to properly setup an evaluation using the SEAL codebase. For this to work you must have the following Python 3 packages installed (alongside Python 3 itself):\n",
    "* `pandas`\n",
    "* `pickle`\n",
    "* `ray`\n",
    "* `ray[rllib]`\n",
    "\n",
    "Once these are installed, you must have a working sub-class of the `ray.rllib.env.MultiAgentEnv` class. Further, this sub-class must operate in a fashion similar to that found in the `seal.sumo.env.SumoEnv` class. This sub-class can either be for digital simulations or physical test-bed implementations, so long as the interface is properly setup in the sub-class."
   ]
  },
  {
   "cell_type": "code",
   "execution_count": null,
   "metadata": {
    "vscode": {
     "languageId": "plaintext"
    }
   },
   "outputs": [],
   "source": []
  }
 ],
 "metadata": {
  "interpreter": {
   "hash": "454f498e8f513d67c135c6a6b743fcbc0143c6880869d0c11778b9f487ff1118"
  },
  "kernelspec": {
   "display_name": "Python 3.8.3 64-bit",
   "name": "python3"
  },
  "language_info": {
   "name": "python",
   "version": ""
  },
  "orig_nbformat": 4
 },
 "nbformat": 4,
 "nbformat_minor": 2
}
