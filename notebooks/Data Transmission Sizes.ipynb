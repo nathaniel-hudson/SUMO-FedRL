{
 "cells": [
  {
   "cell_type": "code",
   "execution_count": 1,
   "metadata": {},
   "outputs": [],
   "source": [
    "import glob\n",
    "import matplotlib.pyplot as plt\n",
    "import numpy as np\n",
    "import pandas\n",
    "import pickle\n",
    "import seaborn as sns\n",
    "import sys\n",
    "\n",
    "from collections import defaultdict\n",
    "from os.path import join\n",
    "\n",
    "DATA = defaultdict(list)\n",
    "SERIALIZE = lambda x: x # pickle.dumps(x)"
   ]
  },
  {
   "cell_type": "markdown",
   "metadata": {},
   "source": [
    "# Policy Network Parameter Byte Size\n",
    "Here, we get the `bytesize` of each of the trained policy network parameters and plot the distribution via an ECDF plot. We then conclude that the number of bytes for the policy network parameters in a serialized format (via `pickle`) is `640`."
   ]
  },
  {
   "cell_type": "code",
   "execution_count": 9,
   "metadata": {},
   "outputs": [
    {
     "name": "stdout",
     "output_type": "stream",
     "text": [
      "Average byte size of the policy networks parameters: 640.0\n"
     ]
    },
    {
     "data": {
      "image/png": "[encoded data removed]",
      "text/plain": [
       "<Figure size 432x288 with 1 Axes>"
      ]
     },
     "metadata": {
      "needs_background": "light"
     },
     "output_type": "display_data"
    }
   ],
   "source": [
    "policy_network_bytes = []\n",
    "policy_network_params = []\n",
    "for trainer_dir in [\"FedRL\", \"MARL\", \"SARL\"]:\n",
    "    for netfile_dir in [\"double\", \"grid-3x3\", \"grid-5x5\"]:\n",
    "        pattern = join(\"..\", \"example_weights\", \"Final\", trainer_dir, netfile_dir, \"*.pkl\")\n",
    "        for path in glob.glob(pattern):\n",
    "            with open(path, \"rb\") as f:\n",
    "                obj = pickle.load(f)\n",
    "                policy_network_bytes.append(sys.getsizeof(obj))\n",
    "                policy_network_params.append(obj)\n",
    "\n",
    "print(f\"Average byte size of the policy networks parameters: \"\n",
    "      f\"{np.mean(policy_network_bytes)}\")\n",
    "sns.ecdfplot(policy_network_bytes)\n",
    "plt.grid(linestyle=\"--\")\n",
    "plt.show()"
   ]
  },
  {
   "cell_type": "markdown",
   "metadata": {},
   "source": [
    "# Rank Byte Sizes\n",
    "Since the ranks are essentially a $1\\times4$ vector (i.e., a vector with `4` different ranks), then the byte size should just be roughly the number of bytes used to represent the float $\\times4$. For assuredness, we will perform the analysis here to confirm."
   ]
  },
  {
   "cell_type": "code",
   "execution_count": 3,
   "metadata": {},
   "outputs": [
    {
     "name": "stdout",
     "output_type": "stream",
     "text": [
      "Number of bytes for ranks is 112 bytes.\n"
     ]
    }
   ],
   "source": [
    "rank_example = np.zeros(4, dtype=np.float32)\n",
    "print(f\"Number of bytes for ranks is {sys.getsizeof(SERIALIZE(rank_example))} bytes.\")"
   ]
  },
  {
   "cell_type": "markdown",
   "metadata": {},
   "source": [
    "# Action Size\n",
    "This is also straightforward. Since it's just a single integer, should be 8 bytes."
   ]
  },
  {
   "cell_type": "code",
   "execution_count": 4,
   "metadata": {},
   "outputs": [
    {
     "data": {
      "text/plain": [
       "24"
      ]
     },
     "execution_count": 4,
     "metadata": {},
     "output_type": "execute_result"
    }
   ],
   "source": [
    "sys.getsizeof(SERIALIZE(0))"
   ]
  },
  {
   "cell_type": "markdown",
   "metadata": {},
   "source": [
    "# Observation Sizes\n",
    "Since the observations from the traffic light to the edge-RSU is always a $1\\times10$ vector, we just have to `pickle` (or serialize) a $1\\times10$ vector and get its size."
   ]
  },
  {
   "cell_type": "code",
   "execution_count": 5,
   "metadata": {},
   "outputs": [
    {
     "name": "stdout",
     "output_type": "stream",
     "text": [
      "Size of observations from traffic lights: 136 bytes.\n"
     ]
    }
   ],
   "source": [
    "obs_vector = np.zeros(10, dtype=np.float32)\n",
    "print(f\"Size of observations from traffic lights: \"\n",
    "      f\"{sys.getsizeof(SERIALIZE(obs_vector))} bytes.\")"
   ]
  },
  {
   "cell_type": "markdown",
   "metadata": {},
   "source": [
    "# Vehicle Information to Traffic Light Sizes\n",
    "This is the most subjective of the data transmitted through the simulated network. For the purposes of this work, we will consider that each vehicle will submit `3` values (thus communicates a $1\\times3$ vector). These three values are:\n",
    "* longitude\n",
    "* latitude\n",
    "* current speed\n",
    "\n",
    "The (longitutde, latitude) pair can provide the traffic light with enough information to discern which lane the vehicle is on. The current speed can then be used for identifying halted vehicles, average speed, etc."
   ]
  },
  {
   "cell_type": "code",
   "execution_count": 13,
   "metadata": {},
   "outputs": [
    {
     "name": "stdout",
     "output_type": "stream",
     "text": [
      "Size of vehicle information to traffic lights: 99 bytes.\n"
     ]
    }
   ],
   "source": [
    "tls_info_vector = np.zeros(3, dtype=np.int8)\n",
    "print(f\"Size of vehicle information to traffic lights: \"\n",
    "      f\"{sys.getsizeof(SERIALIZE(tls_info_vector))} bytes.\")"
   ]
  },
  {
   "cell_type": "code",
   "execution_count": null,
   "metadata": {},
   "outputs": [],
   "source": []
  }
 ],
 "metadata": {
  "interpreter": {
   "hash": "aee8b7b246df8f9039afb4144a1f6fd8d2ca17a180786b69acc140d282b71a49"
  },
  "kernelspec": {
   "display_name": "Python 3.8.5 64-bit",
   "name": "python3"
  },
  "language_info": {
   "codemirror_mode": {
    "name": "ipython",
    "version": 3
   },
   "file_extension": ".py",
   "mimetype": "text/x-python",
   "name": "python",
   "nbconvert_exporter": "python",
   "pygments_lexer": "ipython3",
   "version": "3.8.5"
  },
  "orig_nbformat": 4
 },
 "nbformat": 4,
 "nbformat_minor": 2
}
