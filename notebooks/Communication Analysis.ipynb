{
 "cells": [
  {
   "cell_type": "code",
   "execution_count": 5,
   "source": [
    "import ast\n",
    "import json\n",
    "import matplotlib.pyplot as plt\n",
    "import os\n",
    "import pandas as pd\n",
    "import seaborn as sns\n",
    "\n",
    "from collections import defaultdict\n",
    "from os.path import join\n",
    "\n",
    "import sys\n",
    "sys.path.append(\"..\")\n",
    "\n",
    "from seal.trainer.communication import *"
   ],
   "outputs": [],
   "metadata": {}
  },
  {
   "cell_type": "code",
   "execution_count": 2,
   "source": [
    "sample_path = join(\"..\", \"out\", \"data\", \"FedRL\", \"grid-3x3\", \"dummy_ranked.csv\")\n",
    "sample_df = pd.read_csv(sample_path)\n",
    "print(sample_df.columns)\n",
    "sample_df[\"hist_stats\"][0]"
   ],
   "outputs": [
    {
     "output_type": "stream",
     "name": "stdout",
     "text": [
      "Index(['Unnamed: 0', 'round', 'trainer', 'policy', 'fed_round',\n",
      "       'policy_reward', 'num_vehicles', 'episode_reward_max',\n",
      "       'episode_reward_min', 'episode_reward_mean', 'episode_len_mean',\n",
      "       'episode_media', 'episodes_this_iter', 'policy_reward_min',\n",
      "       'policy_reward_max', 'policy_reward_mean', 'custom_metrics',\n",
      "       'hist_stats', 'sampler_perf', 'off_policy_estimator',\n",
      "       'num_healthy_workers', 'timesteps_total', 'agent_timesteps_total',\n",
      "       'timers', 'info', 'done', 'episodes_total', 'training_iteration',\n",
      "       'experiment_id', 'date', 'timestamp', 'time_this_iter_s',\n",
      "       'time_total_s', 'pid', 'hostname', 'node_ip', 'config',\n",
      "       'time_since_restore', 'timesteps_since_restore',\n",
      "       'iterations_since_restore', 'perf', 'callback_ok'],\n",
      "      dtype='object')\n"
     ]
    },
    {
     "output_type": "execute_result",
     "data": {
      "text/plain": [
       "\"{'policy_B0_comm=edge-to-tls-policy-comms': [0], 'policy_B0_comm=tls-to-edge-policy-comms': [0], 'policy_B0_comm=edge-to-tls-action-comms': [0], 'policy_B0_comm=edge-to-tls-rank-comms': [240], 'policy_B0_comm=tls-to-edge-obs-comms': [0], 'policy_B0_comm=veh-to-tls-info-comms': [3752], 'policy_C1_comm=edge-to-tls-policy-comms': [0], 'policy_C1_comm=tls-to-edge-policy-comms': [0], 'policy_C1_comm=edge-to-tls-action-comms': [0], 'policy_C1_comm=edge-to-tls-rank-comms': [240], 'policy_C1_comm=tls-to-edge-obs-comms': [0], 'policy_C1_comm=veh-to-tls-info-comms': [3252], 'policy_A0_comm=edge-to-tls-policy-comms': [0], 'policy_A0_comm=tls-to-edge-policy-comms': [0], 'policy_A0_comm=edge-to-tls-action-comms': [0], 'policy_A0_comm=edge-to-tls-rank-comms': [240], 'policy_A0_comm=tls-to-edge-obs-comms': [0], 'policy_A0_comm=veh-to-tls-info-comms': [832], 'policy_A1_comm=edge-to-tls-policy-comms': [0], 'policy_A1_comm=tls-to-edge-policy-comms': [0], 'policy_A1_comm=edge-to-tls-action-comms': [0], 'policy_A1_comm=edge-to-tls-rank-comms': [240], 'policy_A1_comm=tls-to-edge-obs-comms': [0], 'policy_A1_comm=veh-to-tls-info-comms': [2941], 'policy_C0_comm=edge-to-tls-policy-comms': [0], 'policy_C0_comm=tls-to-edge-policy-comms': [0], 'policy_C0_comm=edge-to-tls-action-comms': [0], 'policy_C0_comm=edge-to-tls-rank-comms': [240], 'policy_C0_comm=tls-to-edge-obs-comms': [0], 'policy_C0_comm=veh-to-tls-info-comms': [807], 'policy_C2_comm=edge-to-tls-policy-comms': [0], 'policy_C2_comm=tls-to-edge-policy-comms': [0], 'policy_C2_comm=edge-to-tls-action-comms': [0], 'policy_C2_comm=edge-to-tls-rank-comms': [240], 'policy_C2_comm=tls-to-edge-obs-comms': [0], 'policy_C2_comm=veh-to-tls-info-comms': [910], 'policy_B2_comm=edge-to-tls-policy-comms': [0], 'policy_B2_comm=tls-to-edge-policy-comms': [0], 'policy_B2_comm=edge-to-tls-action-comms': [0], 'policy_B2_comm=edge-to-tls-rank-comms': [240], 'policy_B2_comm=tls-to-edge-obs-comms': [0], 'policy_B2_comm=veh-to-tls-info-comms': [4461], 'policy_B1_comm=edge-to-tls-policy-comms': [0], 'policy_B1_comm=tls-to-edge-policy-comms': [0], 'policy_B1_comm=edge-to-tls-action-comms': [0], 'policy_B1_comm=edge-to-tls-rank-comms': [240], 'policy_B1_comm=tls-to-edge-obs-comms': [0], 'policy_B1_comm=veh-to-tls-info-comms': [9430], 'policy_A2_comm=edge-to-tls-policy-comms': [0], 'policy_A2_comm=tls-to-edge-policy-comms': [0], 'policy_A2_comm=edge-to-tls-action-comms': [0], 'policy_A2_comm=edge-to-tls-rank-comms': [240], 'policy_A2_comm=tls-to-edge-obs-comms': [0], 'policy_A2_comm=veh-to-tls-info-comms': [589], 'episode_reward': [-16.038306867146243], 'episode_lengths': [240], 'policy_A0_reward': [-0.3865246158320478], 'policy_A1_reward': [-1.147715023669531], 'policy_A2_reward': [-0.18784620769418053], 'policy_B0_reward': [-2.6780194713469325], 'policy_B1_reward': [-6.275384503290073], 'policy_B2_reward': [-3.0337184765484024], 'policy_C0_reward': [-0.3630108148689225], 'policy_C1_reward': [-1.4698320669028764], 'policy_C2_reward': [-0.4962556869932994]}\""
      ]
     },
     "metadata": {},
     "execution_count": 2
    }
   ],
   "metadata": {}
  },
  {
   "cell_type": "code",
   "execution_count": 11,
   "source": [
    "def preprocess_data(path) -> pd.DataFrame:\n",
    "    raw_df = pd.read_csv(path)\n",
    "    preprocess = defaultdict(list)\n",
    "    for i in range(len(raw_df)):\n",
    "        for comm_type in COMM_TYPES:\n",
    "            policy = raw_df[\"policy\"][i]\n",
    "            preprocess[\"round\"].append(raw_df[\"round\"][i])\n",
    "            preprocess[\"trainer\"].append(raw_df[\"trainer\"][i])\n",
    "            preprocess[\"policy\"].append(policy)\n",
    "            preprocess[\"timesteps_total\"].append(raw_df[\"timesteps_total\"][i])\n",
    "            preprocess[\"policy_reward\"].append(raw_df[\"policy_reward\"][i])\n",
    "            # preprocess[\"episode_reward\"].append(raw_df[\"episode_reward\"][i])\n",
    "            query = f\"policy_{policy}_comm={comm_type}\"\n",
    "            hist_stats = ast.literal_eval(raw_df[\"hist_stats\"][i])\n",
    "            found = False\n",
    "            for key in hist_stats:\n",
    "                if found:\n",
    "                    continue\n",
    "                if query == key:\n",
    "                    comm_cost = hist_stats[query][-1]\n",
    "                    preprocess[\"comm_cost\"].append(comm_cost)\n",
    "                    preprocess[\"comm_type\"].append(comm_type)\n",
    "                    found = True\n",
    "            if not found:\n",
    "                    preprocess[\"comm_cost\"].append(None)\n",
    "                    preprocess[\"comm_type\"].append(None)\n",
    "    return pd.DataFrame.from_dict(preprocess)"
   ],
   "outputs": [],
   "metadata": {}
  },
  {
   "cell_type": "code",
   "execution_count": 12,
   "source": [
    "df = preprocess_data(sample_path)\n",
    "df.head()"
   ],
   "outputs": [
    {
     "output_type": "execute_result",
     "data": {
      "text/html": [
       "<div>\n",
       "<style scoped>\n",
       "    .dataframe tbody tr th:only-of-type {\n",
       "        vertical-align: middle;\n",
       "    }\n",
       "\n",
       "    .dataframe tbody tr th {\n",
       "        vertical-align: top;\n",
       "    }\n",
       "\n",
       "    .dataframe thead th {\n",
       "        text-align: right;\n",
       "    }\n",
       "</style>\n",
       "<table border=\"1\" class=\"dataframe\">\n",
       "  <thead>\n",
       "    <tr style=\"text-align: right;\">\n",
       "      <th></th>\n",
       "      <th>round</th>\n",
       "      <th>trainer</th>\n",
       "      <th>policy</th>\n",
       "      <th>timesteps_total</th>\n",
       "      <th>policy_reward</th>\n",
       "      <th>comm_cost</th>\n",
       "      <th>comm_type</th>\n",
       "    </tr>\n",
       "  </thead>\n",
       "  <tbody>\n",
       "    <tr>\n",
       "      <th>0</th>\n",
       "      <td>0</td>\n",
       "      <td>FedRL</td>\n",
       "      <td>A0</td>\n",
       "      <td>240</td>\n",
       "      <td>-0.386525</td>\n",
       "      <td>0.0</td>\n",
       "      <td>tls-to-edge-obs-comms</td>\n",
       "    </tr>\n",
       "    <tr>\n",
       "      <th>1</th>\n",
       "      <td>0</td>\n",
       "      <td>FedRL</td>\n",
       "      <td>A0</td>\n",
       "      <td>240</td>\n",
       "      <td>-0.386525</td>\n",
       "      <td>240.0</td>\n",
       "      <td>edge-to-tls-rank-comms</td>\n",
       "    </tr>\n",
       "    <tr>\n",
       "      <th>2</th>\n",
       "      <td>0</td>\n",
       "      <td>FedRL</td>\n",
       "      <td>A0</td>\n",
       "      <td>240</td>\n",
       "      <td>-0.386525</td>\n",
       "      <td>0.0</td>\n",
       "      <td>edge-to-tls-action-comms</td>\n",
       "    </tr>\n",
       "    <tr>\n",
       "      <th>3</th>\n",
       "      <td>0</td>\n",
       "      <td>FedRL</td>\n",
       "      <td>A0</td>\n",
       "      <td>240</td>\n",
       "      <td>-0.386525</td>\n",
       "      <td>0.0</td>\n",
       "      <td>edge-to-tls-policy-comms</td>\n",
       "    </tr>\n",
       "    <tr>\n",
       "      <th>4</th>\n",
       "      <td>0</td>\n",
       "      <td>FedRL</td>\n",
       "      <td>A0</td>\n",
       "      <td>240</td>\n",
       "      <td>-0.386525</td>\n",
       "      <td>832.0</td>\n",
       "      <td>veh-to-tls-info-comms</td>\n",
       "    </tr>\n",
       "  </tbody>\n",
       "</table>\n",
       "</div>"
      ],
      "text/plain": [
       "   round trainer policy  timesteps_total  policy_reward  comm_cost  \\\n",
       "0      0   FedRL     A0              240      -0.386525        0.0   \n",
       "1      0   FedRL     A0              240      -0.386525      240.0   \n",
       "2      0   FedRL     A0              240      -0.386525        0.0   \n",
       "3      0   FedRL     A0              240      -0.386525        0.0   \n",
       "4      0   FedRL     A0              240      -0.386525      832.0   \n",
       "\n",
       "                  comm_type  \n",
       "0     tls-to-edge-obs-comms  \n",
       "1    edge-to-tls-rank-comms  \n",
       "2  edge-to-tls-action-comms  \n",
       "3  edge-to-tls-policy-comms  \n",
       "4     veh-to-tls-info-comms  "
      ]
     },
     "metadata": {},
     "execution_count": 12
    }
   ],
   "metadata": {}
  },
  {
   "cell_type": "code",
   "execution_count": 17,
   "source": [
    "sns.relplot(data=df, kind=\"line\", x=\"timesteps_total\", y=\"policy_reward\")\n",
    "plt.show()"
   ],
   "outputs": [
    {
     "output_type": "display_data",
     "data": {
      "image/png": "[encoded data removed]",
      "text/plain": [
       "<Figure size 360x360 with 1 Axes>"
      ]
     },
     "metadata": {
      "needs_background": "light"
     }
    }
   ],
   "metadata": {}
  },
  {
   "cell_type": "code",
   "execution_count": 21,
   "source": [
    "sns.displot(data=df, kind=\"kde\", x=\"comm_cost\", hue=\"comm_type\", multiple=\"fill\", facet_kws={\"sharey\": False, \"sharex\": False})#.set(xscale=\"log\")\n",
    "plt.show()"
   ],
   "outputs": [
    {
     "output_type": "stream",
     "name": "stderr",
     "text": [
      "/usr/local/lib/python3.8/site-packages/seaborn/distributions.py:305: UserWarning: Dataset has 0 variance; skipping density estimate.\n",
      "  warnings.warn(msg, UserWarning)\n",
      "/usr/local/lib/python3.8/site-packages/seaborn/distributions.py:305: UserWarning: Dataset has 0 variance; skipping density estimate.\n",
      "  warnings.warn(msg, UserWarning)\n",
      "/usr/local/lib/python3.8/site-packages/seaborn/distributions.py:305: UserWarning: Dataset has 0 variance; skipping density estimate.\n",
      "  warnings.warn(msg, UserWarning)\n",
      "/usr/local/lib/python3.8/site-packages/seaborn/distributions.py:305: UserWarning: Dataset has 0 variance; skipping density estimate.\n",
      "  warnings.warn(msg, UserWarning)\n",
      "/usr/local/lib/python3.8/site-packages/seaborn/distributions.py:305: UserWarning: Dataset has 0 variance; skipping density estimate.\n",
      "  warnings.warn(msg, UserWarning)\n"
     ]
    },
    {
     "output_type": "display_data",
     "data": {
      "image/png": "[encoded data removed]",
      "text/plain": [
       "<Figure size 524.25x360 with 1 Axes>"
      ]
     },
     "metadata": {
      "needs_background": "light"
     }
    }
   ],
   "metadata": {}
  },
  {
   "cell_type": "code",
   "execution_count": null,
   "source": [],
   "outputs": [],
   "metadata": {}
  }
 ],
 "metadata": {
  "orig_nbformat": 4,
  "language_info": {
   "name": "python",
   "version": "3.8.5",
   "mimetype": "text/x-python",
   "codemirror_mode": {
    "name": "ipython",
    "version": 3
   },
   "pygments_lexer": "ipython3",
   "nbconvert_exporter": "python",
   "file_extension": ".py"
  },
  "kernelspec": {
   "name": "python3",
   "display_name": "Python 3.8.5 64-bit"
  },
  "interpreter": {
   "hash": "aee8b7b246df8f9039afb4144a1f6fd8d2ca17a180786b69acc140d282b71a49"
  }
 },
 "nbformat": 4,
 "nbformat_minor": 2
}