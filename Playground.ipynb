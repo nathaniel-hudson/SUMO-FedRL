{
 "cells": [
  {
   "cell_type": "code",
   "execution_count": 2,
   "metadata": {},
   "outputs": [],
   "source": [
    "import random\n",
    "import matplotlib.pyplot as plt\n",
    "import seaborn as sns\n",
    "import pandas as pd\n",
    "from seal.trainer.communication import COMM_TYPES\n",
    "\n",
    "RANKED = [True, False]\n",
    "TRAINERS = [\"FedRL\", \"MARL\", \"SARL\"]"
   ]
  },
  {
   "cell_type": "code",
   "execution_count": 3,
   "metadata": {},
   "outputs": [],
   "source": [
    "data = {\n",
    "    \"ranked\": [],\n",
    "    \"trainer\": [],\n",
    "    \"comm_cost\": [],\n",
    "    \"comm_type\": []\n",
    "}"
   ]
  },
  {
   "cell_type": "code",
   "execution_count": 4,
   "metadata": {},
   "outputs": [],
   "source": [
    "for i in range(100):\n",
    "    for comm_type in COMM_TYPES:\n",
    "        for trainer in TRAINERS:\n",
    "            for ranked in RANKED:\n",
    "                if comm_type == \"tls-to-edge-obs-comms\" and \\\n",
    "                trainer != \"SARL\":\n",
    "                   comm_cost = 0\n",
    "                else:\n",
    "                    comm_cost = random.randint(10, 100)\n",
    "                \n",
    "                data[\"ranked\"].append(ranked)\n",
    "                data[\"trainer\"].append(trainer)\n",
    "                data[\"comm_cost\"].append(comm_cost)\n",
    "                data[\"comm_type\"].append(comm_type)"
   ]
  },
  {
   "cell_type": "code",
   "execution_count": 5,
   "metadata": {},
   "outputs": [
    {
     "data": {
      "text/html": [
       "<div>\n",
       "<style scoped>\n",
       "    .dataframe tbody tr th:only-of-type {\n",
       "        vertical-align: middle;\n",
       "    }\n",
       "\n",
       "    .dataframe tbody tr th {\n",
       "        vertical-align: top;\n",
       "    }\n",
       "\n",
       "    .dataframe thead th {\n",
       "        text-align: right;\n",
       "    }\n",
       "</style>\n",
       "<table border=\"1\" class=\"dataframe\">\n",
       "  <thead>\n",
       "    <tr style=\"text-align: right;\">\n",
       "      <th></th>\n",
       "      <th>ranked</th>\n",
       "      <th>trainer</th>\n",
       "      <th>comm_cost</th>\n",
       "      <th>comm_type</th>\n",
       "    </tr>\n",
       "  </thead>\n",
       "  <tbody>\n",
       "    <tr>\n",
       "      <th>0</th>\n",
       "      <td>True</td>\n",
       "      <td>FedRL</td>\n",
       "      <td>57</td>\n",
       "      <td>veh-to-tls-info-comms</td>\n",
       "    </tr>\n",
       "    <tr>\n",
       "      <th>1</th>\n",
       "      <td>False</td>\n",
       "      <td>FedRL</td>\n",
       "      <td>21</td>\n",
       "      <td>veh-to-tls-info-comms</td>\n",
       "    </tr>\n",
       "    <tr>\n",
       "      <th>2</th>\n",
       "      <td>True</td>\n",
       "      <td>MARL</td>\n",
       "      <td>60</td>\n",
       "      <td>veh-to-tls-info-comms</td>\n",
       "    </tr>\n",
       "    <tr>\n",
       "      <th>3</th>\n",
       "      <td>False</td>\n",
       "      <td>MARL</td>\n",
       "      <td>100</td>\n",
       "      <td>veh-to-tls-info-comms</td>\n",
       "    </tr>\n",
       "    <tr>\n",
       "      <th>4</th>\n",
       "      <td>True</td>\n",
       "      <td>SARL</td>\n",
       "      <td>13</td>\n",
       "      <td>veh-to-tls-info-comms</td>\n",
       "    </tr>\n",
       "  </tbody>\n",
       "</table>\n",
       "</div>"
      ],
      "text/plain": [
       "   ranked trainer  comm_cost              comm_type\n",
       "0    True   FedRL         57  veh-to-tls-info-comms\n",
       "1   False   FedRL         21  veh-to-tls-info-comms\n",
       "2    True    MARL         60  veh-to-tls-info-comms\n",
       "3   False    MARL        100  veh-to-tls-info-comms\n",
       "4    True    SARL         13  veh-to-tls-info-comms"
      ]
     },
     "execution_count": 5,
     "metadata": {},
     "output_type": "execute_result"
    }
   ],
   "source": [
    "df = pd.DataFrame.from_dict(data)\n",
    "df.head()"
   ]
  },
  {
   "cell_type": "code",
   "execution_count": 8,
   "metadata": {},
   "outputs": [
    {
     "data": {
      "image/png": "[encoded data removed]",
      "text/plain": [
       "<Figure size 432x288 with 1 Axes>"
      ]
     },
     "metadata": {
      "needs_background": "light"
     },
     "output_type": "display_data"
    }
   ],
   "source": [
    "sns.stripplot(\n",
    "    data=df.query(\"comm_type == 'tls-to-edge-obs-comms'\"),\n",
    "    x=\"trainer\",\n",
    "    hue=\"trainer\",\n",
    "    y=\"comm_cost\"\n",
    ")\n",
    "plt.title(\"Before Post-Processing\")\n",
    "plt.legend(fancybox=False, edgecolor=\"black\")\n",
    "plt.show()"
   ]
  },
  {
   "cell_type": "code",
   "execution_count": null,
   "metadata": {},
   "outputs": [],
   "source": [
    "# def post_processing(row):\n",
    "#     if row[\"ranked\"] is True:\n",
    "#         row[]\n",
    "\n",
    "\n",
    "df2 = df.copy()\n",
    "# df2 = df2.apply(post_processing, axis=1)\n",
    "df2.mask(df2[\"ranked\"], )"
   ]
  },
  {
   "cell_type": "code",
   "execution_count": null,
   "metadata": {},
   "outputs": [],
   "source": [
    "sns.stripplot(\n",
    "    data=df2.query(\"comm_type == 'tls-to-edge-obs-comms'\"),\n",
    "    x=\"trainer\",\n",
    "    hue=\"trainer\",\n",
    "    y=\"comm_cost\"\n",
    ")\n",
    "plt.title(\"Before Post-Processing\")\n",
    "plt.legend(fancybox=False, edgecolor=\"black\")\n",
    "plt.show()"
   ]
  }
 ],
 "metadata": {
  "interpreter": {
   "hash": "454f498e8f513d67c135c6a6b743fcbc0143c6880869d0c11778b9f487ff1118"
  },
  "kernelspec": {
   "display_name": "Python 3.8.3 64-bit",
   "name": "python3"
  },
  "language_info": {
   "codemirror_mode": {
    "name": "ipython",
    "version": 3
   },
   "file_extension": ".py",
   "mimetype": "text/x-python",
   "name": "python",
   "nbconvert_exporter": "python",
   "pygments_lexer": "ipython3",
   "version": "3.8.3"
  },
  "orig_nbformat": 4
 },
 "nbformat": 4,
 "nbformat_minor": 2
}
